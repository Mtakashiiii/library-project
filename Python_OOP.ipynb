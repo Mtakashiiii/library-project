{
 "cells": [
  {
   "cell_type": "code",
   "execution_count": 1,
   "id": "1c6b179e",
   "metadata": {},
   "outputs": [
    {
     "name": "stdout",
     "output_type": "stream",
     "text": [
      "msgAHmed\n"
     ]
    },
    {
     "data": {
      "text/plain": [
       "'AHmed'"
      ]
     },
     "execution_count": 1,
     "metadata": {},
     "output_type": "execute_result"
    }
   ],
   "source": [
    "var = input(\"msg\")\n",
    "var"
   ]
  },
  {
   "cell_type": "code",
   "execution_count": 2,
   "id": "fc1e246d",
   "metadata": {},
   "outputs": [
    {
     "name": "stdout",
     "output_type": "stream",
     "text": [
      "0\n",
      "1\n",
      "2\n",
      "3\n",
      "4\n"
     ]
    }
   ],
   "source": [
    "for i in range(5):\n",
    "    print(i)"
   ]
  },
  {
   "cell_type": "code",
   "execution_count": 3,
   "id": "425e5d5c",
   "metadata": {},
   "outputs": [
    {
     "data": {
      "text/plain": [
       "6"
      ]
     },
     "execution_count": 3,
     "metadata": {},
     "output_type": "execute_result"
    }
   ],
   "source": [
    "import random\n",
    "\n",
    "random_integer = random.randint(0, 10)\n",
    "random_integer"
   ]
  },
  {
   "cell_type": "code",
   "execution_count": 4,
   "id": "004cdcb2",
   "metadata": {},
   "outputs": [
    {
     "data": {
      "text/plain": [
       "[9,\n",
       " 6,\n",
       " 4,\n",
       " 6,\n",
       " 3,\n",
       " 6,\n",
       " 8,\n",
       " 9,\n",
       " 4,\n",
       " 10,\n",
       " 1,\n",
       " 0,\n",
       " 10,\n",
       " 6,\n",
       " 4,\n",
       " 9,\n",
       " 2,\n",
       " 7,\n",
       " 6,\n",
       " 6,\n",
       " 5,\n",
       " 3,\n",
       " 10,\n",
       " 4,\n",
       " 8,\n",
       " 9,\n",
       " 10,\n",
       " 8,\n",
       " 7,\n",
       " 0,\n",
       " 5,\n",
       " 3,\n",
       " 3,\n",
       " 3,\n",
       " 9,\n",
       " 7,\n",
       " 6,\n",
       " 7,\n",
       " 3,\n",
       " 6,\n",
       " 6,\n",
       " 10,\n",
       " 3,\n",
       " 2,\n",
       " 9,\n",
       " 5,\n",
       " 2,\n",
       " 9,\n",
       " 6,\n",
       " 2]"
      ]
     },
     "execution_count": 4,
     "metadata": {},
     "output_type": "execute_result"
    }
   ],
   "source": [
    "listo = []\n",
    "for i in range(50):\n",
    "    random_integer = random.randint(0, 10)\n",
    "    listo.append(random_integer)\n",
    "listo"
   ]
  },
  {
   "cell_type": "code",
   "execution_count": 5,
   "id": "60c3fefc",
   "metadata": {},
   "outputs": [
    {
     "name": "stdout",
     "output_type": "stream",
     "text": [
      "please enter number of elements: 50\n"
     ]
    },
    {
     "data": {
      "text/plain": [
       "[6,\n",
       " 0,\n",
       " 4,\n",
       " 1,\n",
       " 3,\n",
       " 10,\n",
       " 2,\n",
       " 2,\n",
       " 8,\n",
       " 5,\n",
       " 0,\n",
       " 1,\n",
       " 10,\n",
       " 10,\n",
       " 1,\n",
       " 3,\n",
       " 10,\n",
       " 4,\n",
       " 2,\n",
       " 8,\n",
       " 6,\n",
       " 6,\n",
       " 7,\n",
       " 1,\n",
       " 9,\n",
       " 5,\n",
       " 9,\n",
       " 5,\n",
       " 5,\n",
       " 5,\n",
       " 3,\n",
       " 5,\n",
       " 8,\n",
       " 5,\n",
       " 2,\n",
       " 1,\n",
       " 4,\n",
       " 3,\n",
       " 4,\n",
       " 7,\n",
       " 4,\n",
       " 1,\n",
       " 2,\n",
       " 5,\n",
       " 4,\n",
       " 10,\n",
       " 3,\n",
       " 3,\n",
       " 7,\n",
       " 7]"
      ]
     },
     "execution_count": 5,
     "metadata": {},
     "output_type": "execute_result"
    }
   ],
   "source": [
    "num = int(input(\"please enter number of elements: \"))\n",
    "listo = [random.randint(0, 10) for i in range(num)]\n",
    "listo"
   ]
  },
  {
   "cell_type": "code",
   "execution_count": 6,
   "id": "5cc8b095",
   "metadata": {},
   "outputs": [
    {
     "data": {
      "text/plain": [
       "True"
      ]
     },
     "execution_count": 6,
     "metadata": {},
     "output_type": "execute_result"
    }
   ],
   "source": [
    "var = 3\n",
    "isinstance(var, int)"
   ]
  },
  {
   "cell_type": "code",
   "execution_count": 7,
   "id": "60b4a0da",
   "metadata": {},
   "outputs": [
    {
     "data": {
      "text/plain": [
       "True"
      ]
     },
     "execution_count": 7,
     "metadata": {},
     "output_type": "execute_result"
    }
   ],
   "source": [
    "type(var) == int"
   ]
  },
  {
   "cell_type": "code",
   "execution_count": 8,
   "id": "8960faf7",
   "metadata": {},
   "outputs": [
    {
     "data": {
      "text/plain": [
       "float"
      ]
     },
     "execution_count": 8,
     "metadata": {},
     "output_type": "execute_result"
    }
   ],
   "source": [
    "var = 3.0\n",
    "type(var)"
   ]
  },
  {
   "cell_type": "code",
   "execution_count": 9,
   "id": "5a491506",
   "metadata": {},
   "outputs": [
    {
     "data": {
      "text/plain": [
       "True"
      ]
     },
     "execution_count": 9,
     "metadata": {},
     "output_type": "execute_result"
    }
   ],
   "source": [
    "var = True\n",
    "type(var) == bool"
   ]
  },
  {
   "cell_type": "code",
   "execution_count": 10,
   "id": "3b8b1668",
   "metadata": {},
   "outputs": [
    {
     "data": {
      "text/plain": [
       "True"
      ]
     },
     "execution_count": 10,
     "metadata": {},
     "output_type": "execute_result"
    }
   ],
   "source": [
    "bool(5)"
   ]
  },
  {
   "cell_type": "code",
   "execution_count": 11,
   "id": "8c5b177d",
   "metadata": {},
   "outputs": [
    {
     "data": {
      "text/plain": [
       "1"
      ]
     },
     "execution_count": 11,
     "metadata": {},
     "output_type": "execute_result"
    }
   ],
   "source": [
    "5 % 2"
   ]
  },
  {
   "cell_type": "code",
   "execution_count": 12,
   "id": "4027b741",
   "metadata": {},
   "outputs": [
    {
     "data": {
      "text/plain": [
       "0"
      ]
     },
     "execution_count": 12,
     "metadata": {},
     "output_type": "execute_result"
    }
   ],
   "source": [
    "6 % 2"
   ]
  },
  {
   "cell_type": "code",
   "execution_count": 13,
   "id": "2dfe5a9c",
   "metadata": {},
   "outputs": [
    {
     "name": "stdout",
     "output_type": "stream",
     "text": [
      "even number\n"
     ]
    }
   ],
   "source": [
    "num = 6\n",
    "if num % 2 == 0:\n",
    "    print(\"even number\")\n",
    "else:\n",
    "    print(\"odd number\")"
   ]
  },
  {
   "cell_type": "code",
   "execution_count": 14,
   "id": "1d862796",
   "metadata": {},
   "outputs": [
    {
     "data": {
      "text/plain": [
       "1"
      ]
     },
     "execution_count": 14,
     "metadata": {},
     "output_type": "execute_result"
    }
   ],
   "source": [
    "8 % 7"
   ]
  },
  {
   "cell_type": "code",
   "execution_count": 15,
   "id": "f6af8738",
   "metadata": {},
   "outputs": [
    {
     "data": {
      "text/plain": [
       "33"
      ]
     },
     "execution_count": 15,
     "metadata": {},
     "output_type": "execute_result"
    }
   ],
   "source": [
    "1000 // 30"
   ]
  },
  {
   "cell_type": "code",
   "execution_count": 16,
   "id": "cadedb74",
   "metadata": {},
   "outputs": [
    {
     "data": {
      "text/plain": [
       "2"
      ]
     },
     "execution_count": 16,
     "metadata": {},
     "output_type": "execute_result"
    }
   ],
   "source": [
    "33 // 12"
   ]
  },
  {
   "cell_type": "code",
   "execution_count": 17,
   "id": "ba9affb4",
   "metadata": {},
   "outputs": [
    {
     "data": {
      "text/plain": [
       "9"
      ]
     },
     "execution_count": 17,
     "metadata": {},
     "output_type": "execute_result"
    }
   ],
   "source": [
    "33 % 12"
   ]
  },
  {
   "cell_type": "code",
   "execution_count": 18,
   "id": "be1b01ae",
   "metadata": {},
   "outputs": [
    {
     "data": {
      "text/plain": [
       "6"
      ]
     },
     "execution_count": 18,
     "metadata": {},
     "output_type": "execute_result"
    }
   ],
   "source": [
    "num"
   ]
  },
  {
   "cell_type": "code",
   "execution_count": 19,
   "id": "3a0f5ef3",
   "metadata": {},
   "outputs": [
    {
     "name": "stdout",
     "output_type": "stream",
     "text": [
      "it's bigger than five\n"
     ]
    }
   ],
   "source": [
    "if num + 4 == 10:\n",
    "    print(\"it's bigger than five\")"
   ]
  },
  {
   "cell_type": "code",
   "execution_count": 20,
   "id": "be6d6dd0",
   "metadata": {},
   "outputs": [
    {
     "data": {
      "text/plain": [
       "False"
      ]
     },
     "execution_count": 20,
     "metadata": {},
     "output_type": "execute_result"
    }
   ],
   "source": [
    "num == 5"
   ]
  },
  {
   "cell_type": "code",
   "execution_count": 21,
   "id": "e8ae25c7",
   "metadata": {},
   "outputs": [
    {
     "name": "stdout",
     "output_type": "stream",
     "text": [
      "there exsist an a in my name\n"
     ]
    }
   ],
   "source": [
    "name = 'Ahmed Ayman'\n",
    "for i in range(len(name)):\n",
    "    if name[i].lower() == 'a':\n",
    "        print(\"there exsist an a in my name\")\n",
    "        break"
   ]
  },
  {
   "cell_type": "code",
   "execution_count": 22,
   "id": "f1bb7724",
   "metadata": {},
   "outputs": [
    {
     "data": {
      "text/plain": [
       "[4,\n",
       " 10,\n",
       " 2,\n",
       " 2,\n",
       " 8,\n",
       " 7,\n",
       " 4,\n",
       " 8,\n",
       " 4,\n",
       " 1,\n",
       " 4,\n",
       " 0,\n",
       " 6,\n",
       " 6,\n",
       " 8,\n",
       " 1,\n",
       " 6,\n",
       " 5,\n",
       " 8,\n",
       " 9,\n",
       " 8,\n",
       " 9,\n",
       " 3,\n",
       " 7,\n",
       " 1,\n",
       " 3,\n",
       " 2,\n",
       " 10,\n",
       " 3,\n",
       " 5,\n",
       " 4,\n",
       " 9,\n",
       " 3,\n",
       " 7,\n",
       " 2,\n",
       " 10,\n",
       " 2,\n",
       " 10,\n",
       " 4,\n",
       " 0,\n",
       " 7,\n",
       " 2,\n",
       " 5,\n",
       " 4,\n",
       " 1,\n",
       " 3,\n",
       " 1,\n",
       " 9,\n",
       " 6,\n",
       " 2]"
      ]
     },
     "execution_count": 22,
     "metadata": {},
     "output_type": "execute_result"
    }
   ],
   "source": [
    "listo = [random.randint(0, 10) for i in range(50)]\n",
    "listo"
   ]
  },
  {
   "cell_type": "code",
   "execution_count": 23,
   "id": "e809e424",
   "metadata": {
    "scrolled": true
   },
   "outputs": [
    {
     "data": {
      "text/plain": [
       "[0,\n",
       " 0,\n",
       " 1,\n",
       " 1,\n",
       " 1,\n",
       " 1,\n",
       " 1,\n",
       " 2,\n",
       " 2,\n",
       " 2,\n",
       " 2,\n",
       " 2,\n",
       " 2,\n",
       " 2,\n",
       " 3,\n",
       " 3,\n",
       " 3,\n",
       " 3,\n",
       " 3,\n",
       " 4,\n",
       " 4,\n",
       " 4,\n",
       " 4,\n",
       " 4,\n",
       " 4,\n",
       " 4,\n",
       " 5,\n",
       " 5,\n",
       " 5,\n",
       " 6,\n",
       " 6,\n",
       " 6,\n",
       " 6,\n",
       " 7,\n",
       " 7,\n",
       " 7,\n",
       " 7,\n",
       " 8,\n",
       " 8,\n",
       " 8,\n",
       " 8,\n",
       " 8,\n",
       " 9,\n",
       " 9,\n",
       " 9,\n",
       " 9,\n",
       " 10,\n",
       " 10,\n",
       " 10,\n",
       " 10]"
      ]
     },
     "execution_count": 23,
     "metadata": {},
     "output_type": "execute_result"
    }
   ],
   "source": [
    "sorted(listo)"
   ]
  },
  {
   "cell_type": "code",
   "execution_count": 24,
   "id": "8895cded",
   "metadata": {},
   "outputs": [
    {
     "data": {
      "text/plain": [
       "{1, 3}"
      ]
     },
     "execution_count": 24,
     "metadata": {},
     "output_type": "execute_result"
    }
   ],
   "source": [
    "my_set = {1, 2, 3}\n",
    "my_set.discard(2) \n",
    "my_set"
   ]
  },
  {
   "cell_type": "code",
   "execution_count": 25,
   "id": "5f4fe1ef",
   "metadata": {},
   "outputs": [
    {
     "data": {
      "text/plain": [
       "{'one': 1, 'two': 2}"
      ]
     },
     "execution_count": 25,
     "metadata": {},
     "output_type": "execute_result"
    }
   ],
   "source": [
    "dicto = {\"one\":1, \"two\":2}\n",
    "dicto['three'] = 3\n",
    "del dicto['three']\n",
    "# dicto.pop('three')}\n",
    "# dicto.popitem() # delete last item\n",
    "dicto"
   ]
  },
  {
   "cell_type": "code",
   "execution_count": 26,
   "id": "029489a3",
   "metadata": {},
   "outputs": [
    {
     "name": "stdout",
     "output_type": "stream",
     "text": [
      "don't divide by zero\n"
     ]
    }
   ],
   "source": [
    "# exception handling\n",
    "\n",
    "try:\n",
    "    5/0\n",
    "    int(\"Ahmed\")\n",
    "except ZeroDivisionError:\n",
    "    print(\"don\\'t divide by zero\")\n",
    "except ValueError:\n",
    "    print(\"don\\'t make bad casting\")"
   ]
  },
  {
   "cell_type": "code",
   "execution_count": 27,
   "id": "5d0797c6",
   "metadata": {},
   "outputs": [
    {
     "name": "stdout",
     "output_type": "stream",
     "text": [
      "Ahmed\n",
      "please put numbers only\n",
      "0\n",
      "0\n"
     ]
    }
   ],
   "source": [
    "while True:\n",
    "    try:\n",
    "        var = int(input())\n",
    "    except ZeroDivisionError:\n",
    "        print(\"don\\'t divide by zero\")\n",
    "    except ValueError:\n",
    "        print(\"please put numbers only\")\n",
    "    else:\n",
    "        break\n",
    "print(var)"
   ]
  },
  {
   "cell_type": "code",
   "execution_count": 28,
   "id": "8333ace7",
   "metadata": {},
   "outputs": [
    {
     "data": {
      "text/plain": [
       "'احمد\\ntestعمرعمرعمر'"
      ]
     },
     "execution_count": 28,
     "metadata": {},
     "output_type": "execute_result"
    }
   ],
   "source": [
    "fd = open('TEST.txt', mode='r+', encoding='utf-8')\n",
    "fd.read()\n",
    "fd.write(\"عمر\")\n",
    "fd.seek(0)\n",
    "fd.read()"
   ]
  },
  {
   "cell_type": "code",
   "execution_count": 29,
   "id": "0b53ee79",
   "metadata": {},
   "outputs": [],
   "source": [
    "fd.close()\n",
    "del fd"
   ]
  },
  {
   "cell_type": "code",
   "execution_count": 30,
   "id": "51b29567",
   "metadata": {},
   "outputs": [
    {
     "data": {
      "text/plain": [
       "['a', 'h', 'm', 'e', 'd']"
      ]
     },
     "execution_count": 30,
     "metadata": {},
     "output_type": "execute_result"
    }
   ],
   "source": [
    "listo = list(\"Ahmed\")\n",
    "for i in range(len(listo)):\n",
    "    listo[i] = listo[i].lower()\n",
    "listo"
   ]
  },
  {
   "cell_type": "code",
   "execution_count": 31,
   "id": "b5fa1b22",
   "metadata": {},
   "outputs": [
    {
     "data": {
      "text/plain": [
       "['a', 'h', 'm', 'e', 'd']"
      ]
     },
     "execution_count": 31,
     "metadata": {},
     "output_type": "execute_result"
    }
   ],
   "source": [
    "def lower_name_into_list(name):\n",
    "    listo = list(name)\n",
    "    for i in range(len(listo)):\n",
    "        listo[i] = listo[i].lower()\n",
    "    return listo\n",
    "\n",
    "lower_name_into_list('Ahmed')"
   ]
  },
  {
   "cell_type": "code",
   "execution_count": 32,
   "id": "930f7b1a",
   "metadata": {},
   "outputs": [
    {
     "data": {
      "text/plain": [
       "['m', 'o', 'h', 'a', 'm', 'e', 'd']"
      ]
     },
     "execution_count": 32,
     "metadata": {},
     "output_type": "execute_result"
    }
   ],
   "source": [
    "lower_name_into_list('Mohamed')"
   ]
  },
  {
   "cell_type": "code",
   "execution_count": 33,
   "id": "bc37b24d",
   "metadata": {},
   "outputs": [
    {
     "data": {
      "text/plain": [
       "[(1, '1'), (2, '2')]"
      ]
     },
     "execution_count": 33,
     "metadata": {},
     "output_type": "execute_result"
    }
   ],
   "source": [
    "list(zip([1, 2, 3], ['1', '2']))"
   ]
  },
  {
   "cell_type": "code",
   "execution_count": 34,
   "id": "ba9e981f",
   "metadata": {},
   "outputs": [
    {
     "data": {
      "text/plain": [
       "[2, 4, 6]"
      ]
     },
     "execution_count": 34,
     "metadata": {},
     "output_type": "execute_result"
    }
   ],
   "source": [
    "def multiply_by_2(arg):\n",
    "    return arg * 2\n",
    "\n",
    "l1 = [1, 2, 3]\n",
    "list(map(lambda arg: arg * 2, l1))"
   ]
  },
  {
   "cell_type": "code",
   "execution_count": 35,
   "id": "03b71ced",
   "metadata": {},
   "outputs": [
    {
     "data": {
      "text/plain": [
       "[2, 2, 2, 4]"
      ]
     },
     "execution_count": 35,
     "metadata": {},
     "output_type": "execute_result"
    }
   ],
   "source": [
    "def filter_by_2(arg):\n",
    "    return arg == 2 or arg == 4\n",
    "\n",
    "l1 = [1, 2, 3, 2, 2, 4]\n",
    "list(filter(filter_by_2, l1))"
   ]
  },
  {
   "cell_type": "code",
   "execution_count": 36,
   "id": "db00ce2f",
   "metadata": {},
   "outputs": [
    {
     "data": {
      "text/plain": [
       "[2.0]"
      ]
     },
     "execution_count": 36,
     "metadata": {},
     "output_type": "execute_result"
    }
   ],
   "source": [
    "l1 = [1, 2.0, 3, 'Ahmed']\n",
    "\n",
    "def get_floats(arg):\n",
    "    if type(arg) == float:\n",
    "        return True\n",
    "    else:\n",
    "        return False\n",
    "    \n",
    "list(filter(get_floats, l1))"
   ]
  },
  {
   "cell_type": "code",
   "execution_count": 37,
   "id": "a4bc0f8f",
   "metadata": {},
   "outputs": [
    {
     "data": {
      "text/plain": [
       "1"
      ]
     },
     "execution_count": 37,
     "metadata": {},
     "output_type": "execute_result"
    }
   ],
   "source": [
    "from functools import reduce\n",
    "l1 = [1, 2, 3]\n",
    "\n",
    "def smallest_number(arg1, arg2):\n",
    "    if arg1 < arg2:\n",
    "        return arg1\n",
    "    else:\n",
    "        return arg2\n",
    "    \n",
    "reduce(smallest_number, l1)"
   ]
  },
  {
   "cell_type": "code",
   "execution_count": 38,
   "id": "bed12cab",
   "metadata": {},
   "outputs": [],
   "source": [
    "# OOP\n",
    "\n",
    "class Person:\n",
    "    def __init__(self, name, age):\n",
    "        self.name = name\n",
    "        self.__age = age\n",
    "    \n",
    "    def whoAmI(self):\n",
    "        print(f\"I\\'m a {str(self)}\")\n",
    "        \n",
    "    def __str__(self):\n",
    "        return \"Person\"\n",
    "        \n",
    "    def set_age(self, age):\n",
    "        self.__age = age\n",
    "    \n",
    "    def get_age(self):\n",
    "        return self.__age\n",
    "    \n",
    "    def my_sum(self, arg):\n",
    "        return arg + arg"
   ]
  },
  {
   "cell_type": "code",
   "execution_count": 39,
   "id": "6fc36eb2",
   "metadata": {},
   "outputs": [
    {
     "data": {
      "text/plain": [
       "24"
      ]
     },
     "execution_count": 39,
     "metadata": {},
     "output_type": "execute_result"
    }
   ],
   "source": [
    "p1 = Person(\"Ahmed\", 27)\n",
    "p1.set_age(24)\n",
    "p1.get_age()"
   ]
  },
  {
   "cell_type": "code",
   "execution_count": 40,
   "id": "c35b343e",
   "metadata": {},
   "outputs": [
    {
     "data": {
      "text/plain": [
       "20"
      ]
     },
     "execution_count": 40,
     "metadata": {},
     "output_type": "execute_result"
    }
   ],
   "source": [
    "p1.my_sum(10)"
   ]
  },
  {
   "cell_type": "code",
   "execution_count": 41,
   "id": "68f70f54",
   "metadata": {},
   "outputs": [],
   "source": [
    "class Student(Person):\n",
    "    \n",
    "    def __init__(self, name, age, course_name, identifer):\n",
    "        Person.__init__(self, name, age)\n",
    "        self.id = identifer\n",
    "        self.course_name = course_name\n",
    "        \n",
    "    def is_big(self):\n",
    "        if self.get_age() >= 50:\n",
    "            return True\n",
    "        else:\n",
    "            return False\n",
    "    \n",
    "    def whoAmI(self):\n",
    "        print(\"I\\'m a Student\")\n",
    "        \n",
    "    def my_sum(self, arg1, arg2):\n",
    "        return arg1 + arg2"
   ]
  },
  {
   "cell_type": "code",
   "execution_count": 42,
   "id": "cdedd0c3",
   "metadata": {},
   "outputs": [
    {
     "name": "stdout",
     "output_type": "stream",
     "text": [
      "I'm a Student\n"
     ]
    }
   ],
   "source": [
    "s1 = Student(\"Ahmed\", 27, 'python', 1806171)\n",
    "s1.whoAmI()"
   ]
  },
  {
   "cell_type": "code",
   "execution_count": 43,
   "id": "20b6d496",
   "metadata": {},
   "outputs": [
    {
     "name": "stdout",
     "output_type": "stream",
     "text": [
      "I'm a Person\n"
     ]
    }
   ],
   "source": [
    "p1.whoAmI()"
   ]
  },
  {
   "cell_type": "code",
   "execution_count": 44,
   "id": "f8c6b54e",
   "metadata": {},
   "outputs": [
    {
     "data": {
      "text/plain": [
       "30"
      ]
     },
     "execution_count": 44,
     "metadata": {},
     "output_type": "execute_result"
    }
   ],
   "source": [
    "s1.my_sum(10, 20)"
   ]
  },
  {
   "cell_type": "code",
   "execution_count": null,
   "id": "c0c8c3c8",
   "metadata": {},
   "outputs": [],
   "source": []
  }
 ],
 "metadata": {
  "kernelspec": {
   "display_name": "Python 3 (ipykernel)",
   "language": "python",
   "name": "python3"
  },
  "language_info": {
   "codemirror_mode": {
    "name": "ipython",
    "version": 3
   },
   "file_extension": ".py",
   "mimetype": "text/x-python",
   "name": "python",
   "nbconvert_exporter": "python",
   "pygments_lexer": "ipython3",
   "version": "3.9.12"
  }
 },
 "nbformat": 4,
 "nbformat_minor": 5
}
